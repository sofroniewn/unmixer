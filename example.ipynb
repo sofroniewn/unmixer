{
 "cells": [
  {
   "cell_type": "markdown",
   "metadata": {},
   "source": [
    "# Spectral unmixing of fluorescent dyes\n",
    "\n",
    "Adapted from *Marina Alterman, Yoav Schechner, and Aryeh Weiss, “Multiplexed Fluorescence Unmixing” (2010): 1–8.*\n",
    "\n",
    "\n",
    "A mixture of $n_{dyes}$ dyes is excited with $S$ different laser line configurations, and the emitted flourescence is measured at $F$ diffrent wavelength bands. For a particular exitation source $s$ and filter band $f$ the corresponding intensity of the image $i_{f,s}$ is given by\n",
    "\n",
    "$$i_{f,s} = \\frac{q_{elect}^{cam}(f)}{g_{gray}^{cam}} \\sum_{d=0}^{n_{dyes}} \\mathcal{P}\\left( N_{d} \\left( f,s \\right) \\right) + \\frac{1}{g_{gray}^{cam}} \\mathcal{N}\\left( 0,\\sigma^2_{elect} \\right)$$\n",
    "\n",
    "where\n",
    "\n",
    "$i_{f,s} \\; \\left[ \\textrm{graylevel} \\right]$ gray-scale value of signal in emission filter band $f$ with excitation source $s$.\n",
    "\n",
    "$g_{gray}^{cam} \\; \\left[ \\textrm{elect} \\cdot \\textrm{graylevel}^{-1} \\right]$ conversion factor from photoelectrons to camera gray-scale values.\n",
    "\n",
    "$q_{elect}^{cam}(f) \\; \\left[ \\textrm{elect} \\cdot \\textrm{photon}^{-1} \\right]$ quantum efficiency of the detector in filter band $f$.\n",
    "\n",
    "$n_{dyes} \\; \\left[ \\textrm{int} \\right]$ number of dyes.\n",
    "\n",
    "$N_{d} \\left( f,s \\right) \\; \\left[ \\textrm{photons} \\right]$ expected number of photons from dye $d$ in filter band $f$ with exication source $s$. $N_{0} \\left( f,s \\right)$ is the expected number of background photons.\n",
    "\n",
    "$\\sigma_{elect} \\; \\left[ \\textrm{electron} \\right]$ is the standard deviation of the sensor noise.\n",
    "\n",
    "$\\mathcal{P} \\left( \\lambda \\right)$ is a poisson distribution with rate $\\lambda$.\n",
    "\n",
    "$\\mathcal{N} \\left( \\mu, \\sigma^2 \\right)$ is a normal distribution with mean $\\mu$ and variance $\\sigma^2$.\n",
    "\n"
   ]
  },
  {
   "cell_type": "markdown",
   "metadata": {},
   "source": [
    "The expected number of photons from dye $d$ in filter band $f$ with exication source $s$ can be determined from the total collected number of photons for that dye by\n",
    "\n",
    "$$N_{d} \\left( f,s \\right) = \\alpha_{d}(s) \\epsilon_{d}(f) N_d^{Tot}$$\n",
    "\n",
    "where\n",
    "\n",
    "$N_d^{Tot}$ is the total number of photons collected from dye $d$.\n",
    "\n",
    "$\\alpha_{d}(s)$ is the normalised absorption of dye $d$ of source $s$. This factor can take into account different exciation powers for different sources $s$.\n",
    "\n",
    "$\\epsilon_{d}(f)$ is the normalised emission of dye $d$ in band $f$. This factor can take into account different transmission coefficicents for different bands $f$.\n",
    "\n",
    "$ 0 \\leq \\alpha_{d}(s), \\; 0 \\leq \\epsilon_{d}(f) \\; \\forall \\; s, d$ and $\\sum_{f,s}\\alpha_{d}(s) \\epsilon_{d}(f) = 1$.\n",
    "\n",
    "\n",
    "\n",
    "\n"
   ]
  },
  {
   "cell_type": "markdown",
   "metadata": {},
   "source": [
    "### signal to noise\n",
    "From *Sheppard, C., Min Gu, Maitreyee Roy, C. Sheppard, Min Gu, and Maitreyee Roy. “Signal‐to‐noise Ratio in Confocal Microscope Systems.” Journal of Microscopy (January 3, 1992).*\n",
    "\n",
    "$$SNR = \\frac{\\eta N_p}{\\sqrt{\\eta N_p + N_n^2}}$$\n",
    "\n",
    "Where $\\eta$ is the quantum efficiency, $N_p$ is the number of signal photons per pixel and $N_n$ is the sensor noise in electrons per pixel."
   ]
  },
  {
   "cell_type": "markdown",
   "metadata": {},
   "source": [
    "Simulation - each fluorophore has an emission spectrum simulated by a center wavelength and a spectral half width.  \n",
    "Represent all noise as shot-noise, so if N photons collected $\\sqrt{N}$ noise.  \n",
    "Minimize negative log-likehood function.  \n",
    "Can add L1 like regularization term to cost function."
   ]
  },
  {
   "cell_type": "markdown",
   "metadata": {},
   "source": [
    "## setup"
   ]
  },
  {
   "cell_type": "code",
   "execution_count": 2,
   "metadata": {
    "collapsed": true
   },
   "outputs": [],
   "source": [
    "import matplotlib.pyplot as plt"
   ]
  },
  {
   "cell_type": "code",
   "execution_count": 3,
   "metadata": {
    "collapsed": true
   },
   "outputs": [],
   "source": [
    "%matplotlib inline"
   ]
  },
  {
   "cell_type": "markdown",
   "metadata": {},
   "source": [
    "## image simulation"
   ]
  },
  {
   "cell_type": "code",
   "execution_count": 4,
   "metadata": {
    "collapsed": false
   },
   "outputs": [
    {
     "name": "stdout",
     "output_type": "stream",
     "text": [
      "42.2733853897\n"
     ]
    }
   ],
   "source": [
    "from unmixer import generate, infer, compare\n",
    "from numpy.random import normal\n",
    "\n",
    "# create coefficients and configuration\n",
    "# could optionally load from JSON files (see test/resources for examples)\n",
    "config = {'noise': [0.1, 0.1]}\n",
    "coeff = {'emission': normal(size=(32,)), 'excitation': normal(size=(5,))}\n",
    "conc = {'concentrations': 100}\n",
    "\n",
    "signal, count = generate(coeff=coeff, config=config)\n",
    "estimate = infer(signal=signal, coeff=coeff)\n",
    "accuracy = compare(estimate, count)\n",
    "\n",
    "print(accuracy)"
   ]
  },
  {
   "cell_type": "code",
   "execution_count": 8,
   "metadata": {
    "collapsed": false
   },
   "outputs": [
    {
     "data": {
      "text/plain": [
       "0.060219999999999996"
      ]
     },
     "execution_count": 8,
     "metadata": {},
     "output_type": "execute_result"
    }
   ],
   "source": [
    "100*1e-9*6.022*1e23*1e3*1e-7*1e-7*1e-7"
   ]
  },
  {
   "cell_type": "code",
   "execution_count": null,
   "metadata": {
    "collapsed": true
   },
   "outputs": [],
   "source": []
  }
 ],
 "metadata": {
  "anaconda-cloud": {},
  "kernelspec": {
   "display_name": "Python [conda root]",
   "language": "python",
   "name": "conda-root-py"
  },
  "language_info": {
   "codemirror_mode": {
    "name": "ipython",
    "version": 2
   },
   "file_extension": ".py",
   "mimetype": "text/x-python",
   "name": "python",
   "nbconvert_exporter": "python",
   "pygments_lexer": "ipython2",
   "version": "2.7.12"
  }
 },
 "nbformat": 4,
 "nbformat_minor": 1
}
