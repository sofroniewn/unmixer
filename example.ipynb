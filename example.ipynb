{
 "cells": [
  {
   "cell_type": "markdown",
   "metadata": {},
   "source": [
    "# Spectral unmixing of fluorescent dyes\n",
    "\n",
    "Adapted from *Marina Alterman, Yoav Schechner, and Aryeh Weiss, “Multiplexed Fluorescence Unmixing” (2010): 1–8.*\n",
    "\n",
    "\n",
    "A mixture of $n_{dyes}$ dyes is excited with $S$ different laser line configurations, and the emitted flourescence is measured at $F$ diffrent wavelength bands. For a particular exitation source $s$ and filter band $f$ the corresponding intensity of the image $i_{f,s}$ is given by\n",
    "\n",
    "$$i_{f,s} = \\frac{q_{elect}^{cam}(f)}{g_{gray}^{cam}} \\sum_{d=0}^{n_{dyes}} \\mathcal{P}\\left( N_{d} \\left( f,s \\right) \\right) + \\frac{1}{g_{gray}^{cam}} \\mathcal{N}\\left( 0,\\sigma^2_{elect} \\right)$$\n",
    "\n",
    "where\n",
    "\n",
    "$i_{f,s} \\; \\left[ \\textrm{graylevel} \\right]$ gray-scale value of signal in emission filter band $f$ with excitation source $s$.\n",
    "\n",
    "$g_{gray}^{cam} \\; \\left[ \\textrm{elect} \\cdot \\textrm{graylevel}^{-1} \\right]$ conversion factor from photoelectrons to camera gray-scale values.\n",
    "\n",
    "$q_{elect}^{cam}(f) \\; \\left[ \\textrm{elect} \\cdot \\textrm{photon}^{-1} \\right]$ quantum efficiency of the detector in filter band $f$.\n",
    "\n",
    "$n_{dyes} \\; \\left[ \\textrm{int} \\right]$ number of dyes.\n",
    "\n",
    "$N_{d} \\left( f,s \\right) \\; \\left[ \\textrm{photons} \\right]$ expected number of photons from dye $d$ in filter band $f$ with exication source $s$. $N_{0} \\left( f,s \\right)$ is the expected number of background photons.\n",
    "\n",
    "$\\sigma_{elect} \\; \\left[ \\textrm{electron} \\right]$ is the standard deviation of the sensor noise.\n",
    "\n",
    "$\\mathcal{P} \\left( \\lambda \\right)$ is a poisson distribution with rate $\\lambda$.\n",
    "\n",
    "$\\mathcal{N} \\left( \\mu, \\sigma^2 \\right)$ is a normal distribution with mean $\\mu$ and variance $\\sigma^2$.\n",
    "\n"
   ]
  },
  {
   "cell_type": "markdown",
   "metadata": {},
   "source": [
    "The expected number of photons from dye $d$ in filter band $f$ with exication source $s$ can be determined from the total collected number of photons for that dye by\n",
    "\n",
    "$$N_{d} \\left( f,s \\right) = \\alpha_{d}(s) \\epsilon_{d}(f) N_d^{Tot}$$\n",
    "\n",
    "where\n",
    "\n",
    "$N_d^{Tot}$ is the total number of photons collected from dye $d$.\n",
    "\n",
    "$\\alpha_{d}(s)$ is the normalised absorption of dye $d$ of source $s$. This factor can take into account different exciation powers for different sources $s$.\n",
    "\n",
    "$\\epsilon_{d}(f)$ is the normalised emission of dye $d$ in band $f$. This factor can take into account different transmission coefficicents for different bands $f$.\n",
    "\n",
    "$ 0 \\leq \\alpha_{d}(s), \\; 0 \\leq \\epsilon_{d}(f) \\; \\forall \\; s, d$ and $\\sum_{f,s}\\alpha_{d}(s) \\epsilon_{d}(f) = 1$.\n",
    "\n",
    "\n",
    "\n",
    "\n"
   ]
  },
  {
   "cell_type": "markdown",
   "metadata": {},
   "source": [
    "## setup"
   ]
  },
  {
   "cell_type": "code",
   "execution_count": 1,
   "metadata": {
    "collapsed": true
   },
   "outputs": [],
   "source": [
    "import matplotlib.pyplot as plt"
   ]
  },
  {
   "cell_type": "code",
   "execution_count": 2,
   "metadata": {
    "collapsed": true
   },
   "outputs": [],
   "source": [
    "%matplotlib inline"
   ]
  },
  {
   "cell_type": "markdown",
   "metadata": {},
   "source": [
    "## image simulation"
   ]
  },
  {
   "cell_type": "code",
   "execution_count": 90,
   "metadata": {
    "collapsed": true
   },
   "outputs": [],
   "source": [
    "from numpy import outer, asarray\n",
    "from numpy.random import poisson, normal\n",
    "\n",
    "def generate(count, coeff, config):\n",
    "    emission = asarray(coeff['emission'])\n",
    "    excitation = asarray(coeff['excitation'])\n",
    "    tmp = asarray([outer(x, y) for x,y in zip(emission, excitation)])\n",
    "    norm = tmp.sum(axis=(1,2))\n",
    "    count_bin = asarray([y*z/x for x,y,z in zip(norm, count, tmp)])\n",
    "    \n",
    "    signal = poisson(count_bin).sum(axis=0)*config['qe']\n",
    "    signal += normal(loc=0, scale=config['noise'], size=signal.shape)\n",
    "    return (signal/config['graylevel']).astype(int)\n"
   ]
  },
  {
   "cell_type": "code",
   "execution_count": 114,
   "metadata": {
    "collapsed": false
   },
   "outputs": [],
   "source": [
    "from scipy.stats import norm\n",
    "from numpy import linspace\n",
    "x_wv = linspace(400,700,32)\n",
    "centers = [505, 561, 600]\n",
    "y_em = asarray([norm.pdf(x_wv, c, 20) for c in centers])\n",
    "\n",
    "x = linspace(400,700,5)\n",
    "centers = [488, 541, 565]\n",
    "y_ex = asarray([norm.pdf(x, c, 60) for c in centers])\n",
    "\n",
    "\n",
    "\n"
   ]
  },
  {
   "cell_type": "code",
   "execution_count": 111,
   "metadata": {
    "collapsed": false
   },
   "outputs": [
    {
     "data": {
      "text/plain": [
       "array([[  2.26804137e-03,   6.49478769e-03,   3.89846659e-03,\n",
       "          4.90498346e-04,   1.29358851e-05],\n",
       "       [  4.20303665e-04,   3.63086962e-03,   6.57465552e-03,\n",
       "          2.49545776e-03,   1.98537393e-04],\n",
       "       [  1.51559375e-04,   2.15862659e-03,   6.44446861e-03,\n",
       "          4.03284541e-03,   5.28994197e-04]])"
      ]
     },
     "execution_count": 111,
     "metadata": {},
     "output_type": "execute_result"
    }
   ],
   "source": [
    "y_ex"
   ]
  },
  {
   "cell_type": "code",
   "execution_count": 112,
   "metadata": {
    "collapsed": false
   },
   "outputs": [
    {
     "name": "stdout",
     "output_type": "stream",
     "text": [
      "[[  0   0   0   0   0]\n",
      " [  0   0   0   0   0]\n",
      " [  0   0   0   0   0]\n",
      " [  0   0   0   0   0]\n",
      " [  0   0   0   0   0]\n",
      " [  0   0   0   0   0]\n",
      " [  0   0   0   0   0]\n",
      " [  0   0   0   0   0]\n",
      " [  0   0   0   0   0]\n",
      " [  0   1   1   0   0]\n",
      " [  0   2   2   0   0]\n",
      " [  0   4   5   1   0]\n",
      " [  1   9  14   4   0]\n",
      " [  2  20  34  13   0]\n",
      " [  4  39  75  27   2]\n",
      " [  7  66 120  47   3]\n",
      " [  9  89 172  62   6]\n",
      " [ 11 100 194  79   7]\n",
      " [ 10  94 197  92  10]\n",
      " [  8  82 198 102  11]\n",
      " [  6  74 192 110  14]\n",
      " [  4  63 175 103  13]\n",
      " [  3  45 136  82  10]\n",
      " [  1  28  86  53   7]\n",
      " [  1  14  42  27   3]\n",
      " [  0   5  17  11   1]\n",
      " [  0   1   6   3   0]\n",
      " [  0   0   1   0   0]\n",
      " [  0   0   0   0   0]\n",
      " [  0   0   0   0   0]\n",
      " [  0   0   0   0   0]\n",
      " [  0   0   0   0   0]]\n"
     ]
    }
   ],
   "source": [
    "# create coefficients and configuration\n",
    "# could optionally load from JSON files (see test/resources for examples)\n",
    "config = {'noise': 0.5,\n",
    "         'graylevel' : 50,\n",
    "         'qe' : 0.85\n",
    "         }\n",
    "coeff = {'emission': y_em, 'excitation': y_ex}\n",
    "count = [1000, 100000, 100000]\n",
    "\n",
    "signal = generate(count, coeff, config)\n",
    "#estimate = infer(signal=signal, coeff=coeff)\n",
    "#accuracy = compare(estimate, count)\n",
    "\n",
    "print(signal)"
   ]
  },
  {
   "cell_type": "code",
   "execution_count": 119,
   "metadata": {
    "collapsed": false
   },
   "outputs": [
    {
     "data": {
      "image/png": "[encoded data removed]",
      "text/plain": [
       "<matplotlib.figure.Figure at 0x11060ef10>"
      ]
     },
     "metadata": {},
     "output_type": "display_data"
    }
   ],
   "source": [
    "plt.plot(x_wv, signal[:,3]);"
   ]
  },
  {
   "cell_type": "code",
   "execution_count": 82,
   "metadata": {
    "collapsed": false
   },
   "outputs": [
    {
     "data": {
      "image/png": "[encoded data removed]",
      "text/plain": [
       "<matplotlib.figure.Figure at 0x10b8efdd0>"
      ]
     },
     "metadata": {},
     "output_type": "display_data"
    }
   ],
   "source": [
    "plt.plot(coeff['emission'][0]);"
   ]
  },
  {
   "cell_type": "code",
   "execution_count": 80,
   "metadata": {
    "collapsed": false
   },
   "outputs": [
    {
     "data": {
      "text/plain": [
       "array([[0, 0, 1, 0, 0],\n",
       "       [0, 1, 1, 0, 0],\n",
       "       [0, 0, 1, 0, 0],\n",
       "       [0, 0, 0, 0, 0],\n",
       "       [0, 0, 0, 0, 0],\n",
       "       [0, 0, 0, 0, 0],\n",
       "       [0, 1, 0, 0, 0],\n",
       "       [0, 1, 1, 0, 0],\n",
       "       [1, 1, 1, 1, 1],\n",
       "       [0, 0, 0, 0, 0],\n",
       "       [1, 1, 1, 0, 1],\n",
       "       [1, 0, 1, 0, 0],\n",
       "       [1, 0, 1, 0, 0],\n",
       "       [0, 0, 0, 0, 0],\n",
       "       [0, 0, 1, 0, 0],\n",
       "       [1, 0, 1, 0, 0],\n",
       "       [0, 0, 0, 0, 0],\n",
       "       [1, 1, 1, 0, 0],\n",
       "       [0, 0, 0, 0, 0],\n",
       "       [1, 1, 1, 1, 0],\n",
       "       [0, 1, 1, 0, 0],\n",
       "       [1, 0, 0, 0, 0],\n",
       "       [1, 0, 0, 0, 0],\n",
       "       [0, 0, 0, 0, 0],\n",
       "       [0, 0, 0, 0, 0],\n",
       "       [1, 1, 1, 0, 0],\n",
       "       [1, 1, 1, 0, 0],\n",
       "       [0, 0, 1, 0, 0],\n",
       "       [0, 0, 1, 0, 0],\n",
       "       [0, 0, 0, 0, 0],\n",
       "       [0, 0, 0, 0, 0],\n",
       "       [0, 0, 0, 0, 0]])"
      ]
     },
     "execution_count": 80,
     "metadata": {},
     "output_type": "execute_result"
    }
   ],
   "source": [
    "signal"
   ]
  },
  {
   "cell_type": "code",
   "execution_count": 4,
   "metadata": {
    "collapsed": false
   },
   "outputs": [
    {
     "data": {
      "text/plain": [
       "0.060219999999999996"
      ]
     },
     "execution_count": 4,
     "metadata": {},
     "output_type": "execute_result"
    }
   ],
   "source": [
    "100*1e-9*6.022*1e23*1e3*1e-7*1e-7*1e-7"
   ]
  },
  {
   "cell_type": "code",
   "execution_count": null,
   "metadata": {
    "collapsed": true
   },
   "outputs": [],
   "source": []
  }
 ],
 "metadata": {
  "anaconda-cloud": {},
  "kernelspec": {
   "display_name": "Python [conda root]",
   "language": "python",
   "name": "conda-root-py"
  },
  "language_info": {
   "codemirror_mode": {
    "name": "ipython",
    "version": 2
   },
   "file_extension": ".py",
   "mimetype": "text/x-python",
   "name": "python",
   "nbconvert_exporter": "python",
   "pygments_lexer": "ipython2",
   "version": "2.7.12"
  }
 },
 "nbformat": 4,
 "nbformat_minor": 1
}
